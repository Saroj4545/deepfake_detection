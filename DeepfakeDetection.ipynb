{
  "nbformat": 4,
  "nbformat_minor": 0,
  "metadata": {
    "colab": {
      "provenance": [],
      "mount_file_id": "1xaQHqhD0acKHfNhh196d9D-NxyTGS_H-",
      "authorship_tag": "ABX9TyNfZAQBGMqPVld/fueUVDpr",
      "include_colab_link": true
    },
    "kernelspec": {
      "name": "python3",
      "display_name": "Python 3"
    },
    "language_info": {
      "name": "python"
    }
  },
  "cells": [
    {
      "cell_type": "markdown",
      "metadata": {
        "id": "view-in-github",
        "colab_type": "text"
      },
      "source": [
        "<a href=\"https://colab.research.google.com/github/Saroj4545/deepfake_detection/blob/main/DeepfakeDetection.ipynb\" target=\"_parent\"><img src=\"https://colab.research.google.com/assets/colab-badge.svg\" alt=\"Open In Colab\"/></a>"
      ]
    },
    {
      "cell_type": "code",
      "source": [
        "download_script = \"\"\"# -*- coding: utf-8 -*-\n",
        "import argparse\n",
        "import os\n",
        "import urllib\n",
        "import urllib.request\n",
        "import tempfile\n",
        "import time\n",
        "import sys\n",
        "import json\n",
        "import random\n",
        "from tqdm import tqdm\n",
        "from os.path import join\n",
        "\n",
        "\n",
        "# URLs and filenames\n",
        "FILELIST_URL = 'misc/filelist.json'\n",
        "DEEPFEAKES_DETECTION_URL = 'misc/deepfake_detection_filenames.json'\n",
        "DEEPFAKES_MODEL_NAMES = ['decoder_A.h5', 'decoder_B.h5', 'encoder.h5',]\n",
        "\n",
        "# Parameters\n",
        "DATASETS = {\n",
        "    'original_youtube_videos': 'misc/downloaded_youtube_videos.zip',\n",
        "    'original_youtube_videos_info': 'misc/downloaded_youtube_videos_info.zip',\n",
        "    'original': 'original_sequences/youtube',\n",
        "    'DeepFakeDetection_original': 'original_sequences/actors',\n",
        "    'Deepfakes': 'manipulated_sequences/Deepfakes',\n",
        "    'DeepFakeDetection': 'manipulated_sequences/DeepFakeDetection',\n",
        "    'Face2Face': 'manipulated_sequences/Face2Face',\n",
        "    'FaceShifter': 'manipulated_sequences/FaceShifter',\n",
        "    'FaceSwap': 'manipulated_sequences/FaceSwap',\n",
        "    'NeuralTextures': 'manipulated_sequences/NeuralTextures'\n",
        "    }\n",
        "ALL_DATASETS = ['original', 'DeepFakeDetection_original', 'Deepfakes',\n",
        "                'DeepFakeDetection', 'Face2Face', 'FaceShifter', 'FaceSwap',\n",
        "                'NeuralTextures']\n",
        "COMPRESSION = ['raw', 'c23', 'c40']\n",
        "TYPE = ['videos', 'masks', 'models']\n",
        "SERVERS = ['EU', 'EU2', 'CA']\n",
        "\n",
        "\n",
        "def parse_args():\n",
        "    parser = argparse.ArgumentParser(\n",
        "        description='Downloads FaceForensics v2 public data release.',\n",
        "        formatter_class=argparse.ArgumentDefaultsHelpFormatter\n",
        "    )\n",
        "    parser.add_argument('output_path', type=str, help='Output directory.')\n",
        "    parser.add_argument('-d', '--dataset', type=str, default='all',\n",
        "                        help='Which dataset to download, either pristine or '\n",
        "                             'manipulated data or the downloaded youtube '\n",
        "                             'videos.',\n",
        "                        choices=list(DATASETS.keys()) + ['all']\n",
        "                        )\n",
        "    parser.add_argument('-c', '--compression', type=str, default='raw',\n",
        "                        help='Which compression degree. All videos '\n",
        "                             'have been generated with h264 with a varying '\n",
        "                             'codec. Raw (c0) videos are lossless compressed.',\n",
        "                        choices=COMPRESSION\n",
        "                        )\n",
        "    parser.add_argument('-t', '--type', type=str, default='videos',\n",
        "                        help='Which file type, i.e. videos, masks, for our '\n",
        "                             'manipulation methods, models, for Deepfakes.',\n",
        "                        choices=TYPE\n",
        "                        )\n",
        "    parser.add_argument('-n', '--num_videos', type=int, default=None,\n",
        "                        help='Select a number of videos number to '\n",
        "                             \"download if you don't want to download the full\"\n",
        "                             ' dataset.')\n",
        "    parser.add_argument('--server', type=str, default='EU',\n",
        "                        help='Server to download the data from. If you '\n",
        "                             'encounter a slow download speed, consider '\n",
        "                             'changing the server.',\n",
        "                        choices=SERVERS\n",
        "                        )\n",
        "    args = parser.parse_args()\n",
        "\n",
        "    # URLs\n",
        "    server = args.server\n",
        "    if server == 'EU':\n",
        "        server_url = 'http://canis.vc.in.tum.de:8100/'\n",
        "    elif server == 'EU2':\n",
        "        server_url = 'http://kaldir.vc.in.tum.de/faceforensics/'\n",
        "    elif server == 'CA':\n",
        "        server_url = 'http://falas.cmpt.sfu.ca:8100/'\n",
        "    else:\n",
        "        raise Exception('Wrong server name. Choices: {}'.format(str(SERVERS)))\n",
        "    args.tos_url = server_url + 'webpage/FaceForensics_TOS.pdf'\n",
        "    args.base_url = server_url + 'v3/'\n",
        "    args.deepfakes_model_url = server_url + 'v3/manipulated_sequences/' + \\\n",
        "                               'Deepfakes/models/'\n",
        "\n",
        "    return args\n",
        "\n",
        "\n",
        "def download_files(filenames, base_url, output_path, report_progress=True):\n",
        "    os.makedirs(output_path, exist_ok=True)\n",
        "    if report_progress:\n",
        "        filenames = tqdm(filenames)\n",
        "    for filename in filenames:\n",
        "        download_file(base_url + filename, join(output_path, filename))\n",
        "\n",
        "\n",
        "def reporthook(count, block_size, total_size):\n",
        "    global start_time\n",
        "    if count == 0:\n",
        "        start_time = time.time()\n",
        "        return\n",
        "    duration = time.time() - start_time\n",
        "    progress_size = int(count * block_size)\n",
        "    speed = int(progress_size / (1024 * duration))\n",
        "    percent = int(count * block_size * 100 / total_size)\n",
        "    sys.stdout.write(\"\\rProgress: %d%%, %d MB, %d KB/s, %d seconds passed\" %\n",
        "                     (percent, progress_size / (1024 * 1024), speed, duration))\n",
        "    sys.stdout.flush()\n",
        "\n",
        "\n",
        "def download_file(url, out_file, report_progress=False):\n",
        "    out_dir = os.path.dirname(out_file)\n",
        "    if not os.path.isfile(out_file):\n",
        "        fh, out_file_tmp = tempfile.mkstemp(dir=out_dir)\n",
        "        f = os.fdopen(fh, 'w')\n",
        "        f.close()\n",
        "        if report_progress:\n",
        "            urllib.request.urlretrieve(url, out_file_tmp,\n",
        "                                       reporthook=reporthook)\n",
        "        else:\n",
        "            urllib.request.urlretrieve(url, out_file_tmp)\n",
        "        os.rename(out_file_tmp, out_file)\n",
        "    else:\n",
        "        tqdm.write('WARNING: skipping download of existing file ' + out_file)\n",
        "\n",
        "\n",
        "def main(args):\n",
        "    # TOS\n",
        "    print('By pressing any key to continue you confirm that you have agreed '\\\n",
        "          'to the FaceForensics terms of use as described at:')\n",
        "    print(args.tos_url)\n",
        "    print('***')\n",
        "    print('Press any key to continue, or CTRL-C to exit.')\n",
        "    _ = input('')\n",
        "\n",
        "    # Extract arguments\n",
        "    c_datasets = [args.dataset] if args.dataset != 'all' else ALL_DATASETS\n",
        "    c_type = args.type\n",
        "    c_compression = args.compression\n",
        "    num_videos = args.num_videos\n",
        "    output_path = args.output_path\n",
        "    os.makedirs(output_path, exist_ok=True)\n",
        "\n",
        "    # Check for special dataset cases\n",
        "    for dataset in c_datasets:\n",
        "        dataset_path = DATASETS[dataset]\n",
        "        # Special cases\n",
        "        if 'original_youtube_videos' in dataset:\n",
        "            # Here we download the original youtube videos zip file\n",
        "            print('Downloading original youtube videos.')\n",
        "            if not 'info' in dataset_path:\n",
        "                print('Please be patient, this may take a while (~40gb)')\n",
        "                suffix = ''\n",
        "            else:\n",
        "            \tsuffix = 'info'\n",
        "            download_file(args.base_url + '/' + dataset_path,\n",
        "                          out_file=join(output_path,\n",
        "                                        'downloaded_videos{}.zip'.format(\n",
        "                                            suffix)),\n",
        "                          report_progress=True)\n",
        "            return\n",
        "\n",
        "        # Else: regular datasets\n",
        "        print('Downloading {} of dataset \"{}\"'.format(\n",
        "            c_type, dataset_path\n",
        "        ))\n",
        "\n",
        "        # Get filelists and video lenghts list from server\n",
        "        if 'DeepFakeDetection' in dataset_path or 'actors' in dataset_path:\n",
        "        \tfilepaths = json.loads(urllib.request.urlopen(args.base_url + '/' +\n",
        "                DEEPFEAKES_DETECTION_URL).read().decode(\"utf-8\"))\n",
        "        \tif 'actors' in dataset_path:\n",
        "        \t\tfilelist = filepaths['actors']\n",
        "        \telse:\n",
        "        \t\tfilelist = filepaths['DeepFakesDetection']\n",
        "        elif 'original' in dataset_path:\n",
        "            # Load filelist from server\n",
        "            file_pairs = json.loads(urllib.request.urlopen(args.base_url + '/' +\n",
        "                FILELIST_URL).read().decode(\"utf-8\"))\n",
        "            filelist = []\n",
        "            for pair in file_pairs:\n",
        "            \tfilelist += pair\n",
        "        else:\n",
        "            # Load filelist from server\n",
        "            file_pairs = json.loads(urllib.request.urlopen(args.base_url + '/' +\n",
        "                FILELIST_URL).read().decode(\"utf-8\"))\n",
        "            # Get filelist\n",
        "            filelist = []\n",
        "            for pair in file_pairs:\n",
        "                filelist.append('_'.join(pair))\n",
        "                if c_type != 'models':\n",
        "                    filelist.append('_'.join(pair[::-1]))\n",
        "        # Maybe limit number of videos for download\n",
        "        if num_videos is not None and num_videos > 0:\n",
        "        \tprint('Downloading the first {} videos'.format(num_videos))\n",
        "        \tfilelist = filelist[:num_videos]\n",
        "\n",
        "        # Server and local paths\n",
        "        dataset_videos_url = args.base_url + '{}/{}/{}/'.format(\n",
        "            dataset_path, c_compression, c_type)\n",
        "        dataset_mask_url = args.base_url + '{}/{}/videos/'.format(\n",
        "            dataset_path, 'masks', c_type)\n",
        "\n",
        "        if c_type == 'videos':\n",
        "            dataset_output_path = join(output_path, dataset_path, c_compression,\n",
        "                                       c_type)\n",
        "            print('Output path: {}'.format(dataset_output_path))\n",
        "            filelist = [filename + '.mp4' for filename in filelist]\n",
        "            download_files(filelist, dataset_videos_url, dataset_output_path)\n",
        "        elif c_type == 'masks':\n",
        "            dataset_output_path = join(output_path, dataset_path, c_type,\n",
        "                                       'videos')\n",
        "            print('Output path: {}'.format(dataset_output_path))\n",
        "            if 'original' in dataset:\n",
        "                if args.dataset != 'all':\n",
        "                    print('Only videos available for original data. Aborting.')\n",
        "                    return\n",
        "                else:\n",
        "                    print('Only videos available for original data. '\n",
        "                          'Skipping original.\\n')\n",
        "                    continue\n",
        "            if 'FaceShifter' in dataset:\n",
        "                print('Masks not available for FaceShifter. Aborting.')\n",
        "                return\n",
        "            filelist = [filename + '.mp4' for filename in filelist]\n",
        "            download_files(filelist, dataset_mask_url, dataset_output_path)\n",
        "\n",
        "        # Else: models for deepfakes\n",
        "        else:\n",
        "            if dataset != 'Deepfakes' and c_type == 'models':\n",
        "                print('Models only available for Deepfakes. Aborting')\n",
        "                return\n",
        "            dataset_output_path = join(output_path, dataset_path, c_type)\n",
        "            print('Output path: {}'.format(dataset_output_path))\n",
        "\n",
        "            # Get Deepfakes models\n",
        "            for folder in tqdm(filelist):\n",
        "                folder_filelist = DEEPFAKES_MODEL_NAMES\n",
        "\n",
        "                # Folder paths\n",
        "                folder_base_url = args.deepfakes_model_url + folder + '/'\n",
        "                folder_dataset_output_path = join(dataset_output_path,\n",
        "                                                  folder)\n",
        "                download_files(folder_filelist, folder_base_url,\n",
        "                               folder_dataset_output_path,\n",
        "                               report_progress=False)   # already done\n",
        "\n",
        "\n",
        "if __name__ == \"__main__\":\n",
        "    args = parse_args()\n",
        "    main(args)\"\"\"\n",
        "\n",
        "with open(\"download_ffpp.py\", \"w\") as f:\n",
        "    f.write(download_script)"
      ],
      "metadata": {
        "id": "gV1TOJsgjeNr"
      },
      "execution_count": 4,
      "outputs": []
    },
    {
      "cell_type": "code",
      "source": [
        "!pip install tqdm\n"
      ],
      "metadata": {
        "colab": {
          "base_uri": "https://localhost:8080/"
        },
        "id": "wtc4KIErkkoI",
        "outputId": "6163f23c-0e6c-44b6-d2e8-9c7f79f5d148"
      },
      "execution_count": 5,
      "outputs": [
        {
          "output_type": "stream",
          "name": "stdout",
          "text": [
            "Requirement already satisfied: tqdm in /usr/local/lib/python3.11/dist-packages (4.67.1)\n"
          ]
        }
      ]
    },
    {
      "cell_type": "code",
      "source": [
        "!python download_ffpp.py ffpp_data -d original -c c23 -t videos -n 500 --server EU2\n",
        "!python download_ffpp.py ffpp_data -d Deepfakes -c c23 -t videos -n 500 --server EU2"
      ],
      "metadata": {
        "colab": {
          "base_uri": "https://localhost:8080/"
        },
        "id": "cP7uvn_akuwS",
        "outputId": "fc0f45fa-7444-4905-a49c-015afcfbdf42"
      },
      "execution_count": 10,
      "outputs": [
        {
          "output_type": "stream",
          "name": "stdout",
          "text": [
            "By pressing any key to continue you confirm that you have agreed to the FaceForensics terms of use as described at:\n",
            "http://kaldir.vc.in.tum.de/faceforensics/webpage/FaceForensics_TOS.pdf\n",
            "***\n",
            "Press any key to continue, or CTRL-C to exit.\n",
            "a\n",
            "Downloading videos of dataset \"original_sequences/youtube\"\n",
            "Downloading the first 500 videos\n",
            "Output path: ffpp_data/original_sequences/youtube/c23/videos\n",
            "100% 500/500 [16:30<00:00,  1.98s/it]\n",
            "By pressing any key to continue you confirm that you have agreed to the FaceForensics terms of use as described at:\n",
            "http://kaldir.vc.in.tum.de/faceforensics/webpage/FaceForensics_TOS.pdf\n",
            "***\n",
            "Press any key to continue, or CTRL-C to exit.\n",
            "h\n",
            "Downloading videos of dataset \"manipulated_sequences/Deepfakes\"\n",
            "Downloading the first 500 videos\n",
            "Output path: ffpp_data/manipulated_sequences/Deepfakes/c23/videos\n",
            "100% 500/500 [16:55<00:00,  2.03s/it]\n"
          ]
        }
      ]
    },
    {
      "cell_type": "code",
      "source": [
        "from google.colab import drive\n",
        "drive.mount('/content/drive')"
      ],
      "metadata": {
        "colab": {
          "base_uri": "https://localhost:8080/"
        },
        "id": "qxIP7X9cv9S8",
        "outputId": "96392c1d-8cb7-4944-96cf-4f8e0fa291cd"
      },
      "execution_count": 11,
      "outputs": [
        {
          "output_type": "stream",
          "name": "stdout",
          "text": [
            "Drive already mounted at /content/drive; to attempt to forcibly remount, call drive.mount(\"/content/drive\", force_remount=True).\n"
          ]
        }
      ]
    },
    {
      "cell_type": "code",
      "source": [
        "import shutil\n",
        "\n",
        "# Specify the folder you want to upload\n",
        "source_folder = '/content/ffpp_data'  # Path of the folder in Colab\n",
        "\n",
        "# Specify the destination path in Google Drive\n",
        "destination_folder = '/content/drive/My Drive/Deep Learning'  # Path in Google Drive\n",
        "\n",
        "# Copy the folder to Google Drive\n",
        "shutil.copytree(source_folder, destination_folder)\n"
      ],
      "metadata": {
        "colab": {
          "base_uri": "https://localhost:8080/",
          "height": 35
        },
        "id": "sLQQrpNlwIHJ",
        "outputId": "0a5e3e9c-e973-4aed-b1c1-dbe4841c041d"
      },
      "execution_count": 15,
      "outputs": [
        {
          "output_type": "execute_result",
          "data": {
            "text/plain": [
              "'/content/drive/My Drive/Deep Learning'"
            ],
            "application/vnd.google.colaboratory.intrinsic+json": {
              "type": "string"
            }
          },
          "metadata": {},
          "execution_count": 15
        }
      ]
    },
    {
      "cell_type": "code",
      "source": [
        "import shutil\n",
        "\n",
        "# Specify the folder you want to upload\n",
        "source_folder = '/content/faces_temp'  # Path of the folder in Colab\n",
        "\n",
        "# Specify the destination path in Google Drive\n",
        "destination_folder = '/content/drive/My Drive/Deep Learning'  # Path in Google Drive\n",
        "\n",
        "# Copy the folder to Google Drive\n",
        "shutil.copytree(source_folder, destination_folder, dirs_exist_ok=True)\n",
        "shutil.copytree('/content/frames_temp', destination_folder, dirs_exist_ok=True)"
      ],
      "metadata": {
        "colab": {
          "base_uri": "https://localhost:8080/",
          "height": 35
        },
        "id": "Dhyfyega0_rC",
        "outputId": "76d8ef0a-af67-44e8-8cbd-0ff0719af8fb"
      },
      "execution_count": 25,
      "outputs": [
        {
          "output_type": "execute_result",
          "data": {
            "text/plain": [
              "'/content/drive/My Drive/Deep Learning'"
            ],
            "application/vnd.google.colaboratory.intrinsic+json": {
              "type": "string"
            }
          },
          "metadata": {},
          "execution_count": 25
        }
      ]
    },
    {
      "cell_type": "code",
      "source": [
        "pip install mtcnn"
      ],
      "metadata": {
        "colab": {
          "base_uri": "https://localhost:8080/"
        },
        "id": "IJcsRrenzD7w",
        "outputId": "641916ea-5d42-43ab-b975-17c00978fdf4"
      },
      "execution_count": 17,
      "outputs": [
        {
          "output_type": "stream",
          "name": "stdout",
          "text": [
            "Collecting mtcnn\n",
            "  Downloading mtcnn-1.0.0-py3-none-any.whl.metadata (5.8 kB)\n",
            "Requirement already satisfied: joblib>=1.4.2 in /usr/local/lib/python3.11/dist-packages (from mtcnn) (1.4.2)\n",
            "Collecting lz4>=4.3.3 (from mtcnn)\n",
            "  Downloading lz4-4.4.4-cp311-cp311-manylinux_2_17_x86_64.manylinux2014_x86_64.whl.metadata (3.8 kB)\n",
            "Downloading mtcnn-1.0.0-py3-none-any.whl (1.9 MB)\n",
            "\u001b[2K   \u001b[90m━━━━━━━━━━━━━━━━━━━━━━━━━━━━━━━━━━━━━━━━\u001b[0m \u001b[32m1.9/1.9 MB\u001b[0m \u001b[31m15.3 MB/s\u001b[0m eta \u001b[36m0:00:00\u001b[0m\n",
            "\u001b[?25hDownloading lz4-4.4.4-cp311-cp311-manylinux_2_17_x86_64.manylinux2014_x86_64.whl (1.3 MB)\n",
            "\u001b[2K   \u001b[90m━━━━━━━━━━━━━━━━━━━━━━━━━━━━━━━━━━━━━━━━\u001b[0m \u001b[32m1.3/1.3 MB\u001b[0m \u001b[31m32.8 MB/s\u001b[0m eta \u001b[36m0:00:00\u001b[0m\n",
            "\u001b[?25hInstalling collected packages: lz4, mtcnn\n",
            "Successfully installed lz4-4.4.4 mtcnn-1.0.0\n"
          ]
        }
      ]
    },
    {
      "cell_type": "code",
      "source": [
        "import os\n",
        "import cv2\n",
        "from mtcnn import MTCNN\n",
        "import numpy as np\n",
        "\n",
        "detector = MTCNN()\n",
        "\n",
        "def extract_frames(video_path, output_folder, frame_skip=10):\n",
        "    cap = cv2.VideoCapture(video_path)\n",
        "    count = 0\n",
        "    frame_num = 0\n",
        "    os.makedirs(output_folder, exist_ok=True)\n",
        "\n",
        "    while cap.isOpened():\n",
        "        ret, frame = cap.read()\n",
        "        if not ret:\n",
        "            break\n",
        "        if frame_num % frame_skip == 0:\n",
        "            frame_path = os.path.join(output_folder, f\"frame_{count:04d}.jpg\")\n",
        "            cv2.imwrite(frame_path, frame)\n",
        "            count += 1\n",
        "        frame_num += 1\n",
        "    cap.release()\n",
        "\n",
        "def crop_faces(input_folder, output_folder):\n",
        "    os.makedirs(output_folder, exist_ok=True)\n",
        "    for img_file in os.listdir(input_folder):\n",
        "        img_path = os.path.join(input_folder, img_file)\n",
        "        img = cv2.imread(img_path)\n",
        "        results = detector.detect_faces(img)\n",
        "        if results:\n",
        "            x, y, w, h = results[0]['box']\n",
        "            face = img[y:y+h, x:x+w]\n",
        "            face_resized = cv2.resize(face, (128, 128))\n",
        "            cv2.imwrite(os.path.join(output_folder, img_file), face_resized)\n"
      ],
      "metadata": {
        "id": "3NKrOj5XzAEl"
      },
      "execution_count": 18,
      "outputs": []
    },
    {
      "cell_type": "code",
      "source": [
        "video = '/content/drive/MyDrive/Deep Learning/manipulated_sequences/Deepfakes/c23/videos/004_982.mp4'\n",
        "frame_dir = '/content/frames_temp'\n",
        "face_dir = '/content/faces_temp'\n",
        "\n",
        "# Extract every 10th frame\n",
        "extract_frames(video, frame_dir, frame_skip=10)\n",
        "\n",
        "# Crop faces from extracted frames\n",
        "crop_faces(frame_dir, face_dir)"
      ],
      "metadata": {
        "id": "AOb90NfL0OLd"
      },
      "execution_count": 19,
      "outputs": []
    }
  ]
}